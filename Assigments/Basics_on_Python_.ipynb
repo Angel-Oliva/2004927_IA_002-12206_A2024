{
  "nbformat": 4,
  "nbformat_minor": 0,
  "metadata": {
    "colab": {
      "provenance": [],
      "authorship_tag": "ABX9TyOBYuez9ZvhliX/8TIAf73j",
      "include_colab_link": true
    },
    "kernelspec": {
      "name": "python3",
      "display_name": "Python 3"
    },
    "language_info": {
      "name": "python"
    }
  },
  "cells": [
    {
      "cell_type": "markdown",
      "metadata": {
        "id": "view-in-github",
        "colab_type": "text"
      },
      "source": [
        "<a href=\"https://colab.research.google.com/github/Angel-Oliva/2004927_IA_002-12206_A2024/blob/main/Assigments/Basics_on_Python_.ipynb\" target=\"_parent\"><img src=\"https://colab.research.google.com/assets/colab-badge.svg\" alt=\"Open In Colab\"/></a>"
      ]
    },
    {
      "cell_type": "markdown",
      "source": [
        "#Angel Oliva Villarreal           ID: 2004927"
      ],
      "metadata": {
        "id": "AWw9iFqN7tKo"
      }
    },
    {
      "cell_type": "markdown",
      "source": [
        "#Text Analysis Tool\n"
      ],
      "metadata": {
        "id": "yFgg01RBxZu5"
      }
    },
    {
      "cell_type": "code",
      "execution_count": null,
      "metadata": {
        "colab": {
          "base_uri": "https://localhost:8080/"
        },
        "id": "l3NJdH8_wEIu",
        "outputId": "6afcd0c0-4d24-4d77-d768-fcf6c6e7a059"
      },
      "outputs": [
        {
          "output_type": "stream",
          "name": "stdout",
          "text": [
            "Number of paragraphs: 15\n",
            "Number of sentences: 19\n",
            "Number of words: 251\n",
            "Average word length: 4.81\n",
            "Most common words and their frequencies:\n",
            "the: 20\n",
            "a: 12\n",
            "and: 11\n",
            "to: 6\n"
          ]
        }
      ],
      "source": [
        "#Library\n",
        "import re\n",
        "from collections import Counter\n",
        "\n",
        "#Text analysis\n",
        "def analyze_text(file):\n",
        "    with open(file, 'r', encoding='utf-8') as f:\n",
        "        text = f.read()\n",
        "\n",
        "    # Count paragraphs\n",
        "    paragraphs = text.split('\\n\\n')\n",
        "    num_paragraphs = len(paragraphs)\n",
        "\n",
        "    # Count sentences\n",
        "    sentences = re.split(r'[.!?]+', text)\n",
        "    num_sentences = len([sentence for sentence in sentences if sentence.strip()])\n",
        "\n",
        "    # Count words and calculate average word length\n",
        "    words = re.findall(r'\\b\\w+\\b', text)\n",
        "    num_words = len(words)\n",
        "    average_word_length = sum(len(word) for word in words) / num_words if num_words > 0 else 0\n",
        "\n",
        "    # Count the 4 most common words\n",
        "    word_count = Counter(words)\n",
        "    common_words = word_count.most_common(4)\n",
        "\n",
        "    # Results\n",
        "    print(f\"Number of paragraphs: {num_paragraphs}\")\n",
        "    print(f\"Number of sentences: {num_sentences}\")\n",
        "    print(f\"Number of words: {num_words}\")\n",
        "    print(f\"Average word length: {average_word_length:.2f}\")\n",
        "    print(\"Most common words and their frequencies:\")\n",
        "    for word, frequency in common_words:\n",
        "        print(f\"{word}: {frequency}\")\n",
        "\n",
        "#File to analyze\n",
        "file = 'instructions.txt'\n",
        "analyze_text(file)"
      ]
    },
    {
      "cell_type": "code",
      "source": [
        "from google.colab import drive\n",
        "drive.mount('/content/drive')"
      ],
      "metadata": {
        "id": "NF8a8Ccv60aS"
      },
      "execution_count": null,
      "outputs": []
    },
    {
      "cell_type": "markdown",
      "source": [
        "#Hangman Game"
      ],
      "metadata": {
        "id": "TFjWY8_SxzUI"
      }
    },
    {
      "cell_type": "code",
      "source": [
        "#Library\n",
        "import random\n",
        "\n",
        "#Words\n",
        "def select_word():\n",
        "    words = ['python', 'programming', 'dictionary', 'intelligence', 'artificial', 'Github']\n",
        "    return random.choice(words)\n",
        "\n",
        "#Game display\n",
        "def display_state(word, guessed_letters):\n",
        "    state = ''.join([letter if letter in guessed_letters else '_ ' for letter in word])\n",
        "    return state\n",
        "\n",
        "# Game programming\n",
        "def play():\n",
        "    word = select_word()\n",
        "    guessed_letters = set()\n",
        "    remaining_attempts = 6  # Number of lives\n",
        "\n",
        "    print(\"Welcome to the Hangman game!\")\n",
        "\n",
        "    while remaining_attempts > 0:\n",
        "        #Print status\n",
        "        print(f\"\\nWord: {display_state(word, guessed_letters)}\")\n",
        "        print(f\"Remaining attempts: {remaining_attempts}\")\n",
        "        print(f\"Guessed letters: {', '.join(sorted(guessed_letters))}\")\n",
        "\n",
        "        letter = input(\"Guess a letter: \").lower()\n",
        "\n",
        "        #Error Check\n",
        "        if len(letter) != 1 or not letter.isalpha():\n",
        "            print(\"Please enter only one letter.\")\n",
        "            continue\n",
        "        if letter in guessed_letters:\n",
        "            print(\"You've already guessed that letter. Try another one.\")\n",
        "            continue\n",
        "\n",
        "        #Status Update\n",
        "        guessed_letters.add(letter)\n",
        "\n",
        "        #Correct letter\n",
        "        if letter in word:\n",
        "            print(f\"Well done! The letter '{letter}' is in the word.\")\n",
        "        else:\n",
        "        #Incorrect letter\n",
        "            remaining_attempts -= 1\n",
        "            print(f\"Sorry, the letter '{letter}' is not in the word.\")\n",
        "\n",
        "        #Congratulationst\n",
        "        if all(letter in guessed_letters for letter in word):\n",
        "            print(f\"\\nCongratulations! You've guessed the word: '{word}'\")\n",
        "            break\n",
        "    #Game Over\n",
        "    else:\n",
        "        print(f\"\\nYou've run out of attempts. The word was: '{word}'\")\n",
        "\n",
        "# Start the game\n",
        "play()"
      ],
      "metadata": {
        "id": "YRw-a4bDx2eP",
        "colab": {
          "base_uri": "https://localhost:8080/"
        },
        "outputId": "ccb75c25-010f-4dff-8592-504036421e18"
      },
      "execution_count": null,
      "outputs": [
        {
          "output_type": "stream",
          "name": "stdout",
          "text": [
            "Welcome to the Hangman game!\n",
            "\n",
            "Word: _ _ _ _ _ _ \n",
            "Remaining attempts: 6\n",
            "Guessed letters: \n",
            "Guess a letter: a\n",
            "Sorry, the letter 'a' is not in the word.\n",
            "\n",
            "Word: _ _ _ _ _ _ \n",
            "Remaining attempts: 5\n",
            "Guessed letters: a\n",
            "Guess a letter: e\n",
            "Sorry, the letter 'e' is not in the word.\n",
            "\n",
            "Word: _ _ _ _ _ _ \n",
            "Remaining attempts: 4\n",
            "Guessed letters: a, e\n",
            "Guess a letter: i\n",
            "Sorry, the letter 'i' is not in the word.\n",
            "\n",
            "Word: _ _ _ _ _ _ \n",
            "Remaining attempts: 3\n",
            "Guessed letters: a, e, i\n",
            "Guess a letter: o\n",
            "Well done! The letter 'o' is in the word.\n",
            "\n",
            "Word: _ _ _ _ o_ \n",
            "Remaining attempts: 3\n",
            "Guessed letters: a, e, i, o\n",
            "Guess a letter: p\n",
            "Well done! The letter 'p' is in the word.\n",
            "\n",
            "Word: p_ _ _ o_ \n",
            "Remaining attempts: 3\n",
            "Guessed letters: a, e, i, o, p\n",
            "Guess a letter: y\n",
            "Well done! The letter 'y' is in the word.\n",
            "\n",
            "Word: py_ _ o_ \n",
            "Remaining attempts: 3\n",
            "Guessed letters: a, e, i, o, p, y\n",
            "Guess a letter: \n",
            "Please enter only one letter.\n",
            "\n",
            "Word: py_ _ o_ \n",
            "Remaining attempts: 3\n",
            "Guessed letters: a, e, i, o, p, y\n",
            "Guess a letter: t\n",
            "Well done! The letter 't' is in the word.\n",
            "\n",
            "Word: pyt_ o_ \n",
            "Remaining attempts: 3\n",
            "Guessed letters: a, e, i, o, p, t, y\n",
            "Guess a letter: h\n",
            "Well done! The letter 'h' is in the word.\n",
            "\n",
            "Word: pytho_ \n",
            "Remaining attempts: 3\n",
            "Guessed letters: a, e, h, i, o, p, t, y\n",
            "Guess a letter: n\n",
            "Well done! The letter 'n' is in the word.\n",
            "\n",
            "Congratulations! You've guessed the word: 'python'\n"
          ]
        }
      ]
    },
    {
      "cell_type": "markdown",
      "source": [
        "# Number Guessing Game"
      ],
      "metadata": {
        "id": "NjFGG0JIyXpY"
      }
    },
    {
      "cell_type": "code",
      "source": [
        "#Library\n",
        "import random\n",
        "\n",
        "def guess_the_number():\n",
        "    # Generate a random number between 1 and 100\n",
        "    target_number = random.randint(1, 100)\n",
        "    attempts = 0\n",
        "\n",
        "    print(\"Welcome to the number guessing game!\")\n",
        "    print(\"I have chosen a number between 1 and 100. Try to guess it!\")\n",
        "\n",
        "    while True:\n",
        "        # Prompt the user to guess a number\n",
        "        try:\n",
        "            guess = int(input(\"Enter your guess: \"))\n",
        "            attempts += 1\n",
        "\n",
        "            #Error Check\n",
        "            if guess < 1 or guess > 100:\n",
        "                print(\"Please enter a number between 1 and 100.\")\n",
        "                continue\n",
        "\n",
        "            #State of the game\n",
        "            if guess < target_number:\n",
        "                print(\"Your guess is too low. Try again.\")\n",
        "            elif guess > target_number:\n",
        "                print(\"Your guess is too high. Try again.\")\n",
        "            else:\n",
        "                print(f\"Congratulations! You've guessed the number {target_number} in {attempts} attempts.\")\n",
        "                break\n",
        "        #Verify that it is a number\n",
        "        except ValueError:\n",
        "            print(\"Please enter a valid number.\")\n",
        "\n",
        "# Start the game\n",
        "guess_the_number()"
      ],
      "metadata": {
        "id": "JROD9EvdysaA",
        "colab": {
          "base_uri": "https://localhost:8080/"
        },
        "outputId": "9e67aaba-b7aa-45f8-af65-071bc5d506ab"
      },
      "execution_count": null,
      "outputs": [
        {
          "output_type": "stream",
          "name": "stdout",
          "text": [
            "Welcome to the number guessing game!\n",
            "I have chosen a number between 1 and 100. Try to guess it!\n",
            "Enter your guess: 50\n",
            "Your guess is too low. Try again.\n",
            "Enter your guess: 60\n",
            "Your guess is too low. Try again.\n",
            "Enter your guess: 70\n",
            "Your guess is too low. Try again.\n",
            "Enter your guess: 80\n",
            "Your guess is too low. Try again.\n",
            "Enter your guess: 90\n",
            "Congratulations! You've guessed the number 90 in 5 attempts.\n"
          ]
        }
      ]
    }
  ]
}